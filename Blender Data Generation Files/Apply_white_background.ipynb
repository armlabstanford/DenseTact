{
 "cells": [
  {
   "cell_type": "markdown",
   "id": "c3e2f71e",
   "metadata": {},
   "source": [
    "pixel values for depth images config: 255 --> white pixels, 0 --> dark pixel values"
   ]
  },
  {
   "cell_type": "code",
   "execution_count": 20,
   "id": "36a83aa2",
   "metadata": {},
   "outputs": [],
   "source": [
    "def mask_python_images(img_path, target_filepath, img_name, img_type):\n",
    "    \n",
    "    # importing as grayscale image\n",
    "    depth_img = cv2.imread(img_path, -1)\n",
    "    \n",
    "    target_img_path = os.path.join(target_filepath, img_name)\n",
    "    \n",
    "    target_img_path = target_img_path + \".png\"\n",
    "\n",
    "    #cv2.imshow(\"depth image\", depth_img)\n",
    "    #cv2.waitKey(0)\n",
    "    #cv2.destroyAllWindows()\n",
    "\n",
    "    '''\n",
    "    to find out the dark pixel values and replace them with white\n",
    "    '''\n",
    "    idx_values = []\n",
    "    corresponding_pixel_values = []\n",
    "    img_shape = depth_img.shape\n",
    "    width = img_shape[0]\n",
    "    height = img_shape[1]\n",
    "\n",
    "    for w_idx in tqdm(range(width)):  #to iterate through the rows of the image\n",
    "        for h_idx in range(height):  # to iterate through the coluns of the image\n",
    "            pixel_values = depth_img[w_idx, h_idx]\n",
    "            #print(\"Pixel values: \", pixel_values)\n",
    "            #print(\"Length of pixel values: \", len(pixel_values))\n",
    "            if pixel_values == 48:\n",
    "                idx_values.append([w_idx, h_idx])\n",
    "                corresponding_pixel_values.append(pixel_values)\n",
    "            else:\n",
    "                continue;\n",
    "\n",
    "\n",
    "    '''\n",
    "    to modify the depth images and save them to the target file location\n",
    "    replace the black pixel values with white\n",
    "    '''\n",
    "    print(\"Length of IDX Values: \", len(idx_values))\n",
    "    \n",
    "    for i in idx_values:\n",
    "        x = i[0]\n",
    "        y = i[1]\n",
    "        depth_img[x, y] = 255  # to transform the background of the image as needed\n",
    "\n",
    "    cv2.imwrite(target_img_path, depth_img)\n",
    "    print(\"Filename {} has been modified....\".format(img_name))\n"
   ]
  },
  {
   "cell_type": "code",
   "execution_count": 21,
   "id": "0e29cf0a",
   "metadata": {},
   "outputs": [
    {
     "name": "stdout",
     "output_type": "stream",
     "text": [
      "C:\\Users\\hp\\AI\\Stanford\\ARMLab\\NeRF_By_Touch\\Blender\\ARMLab Code - Tejas\\NeRF Data\\Cube with ridges\\depth_0.45_remapped\\depth_0.45_remapped\\r_0.png\n"
     ]
    },
    {
     "name": "stderr",
     "output_type": "stream",
     "text": [
      "100%|█████████████████████████████████████████████████████████████████████████████| 1024/1024 [00:01<00:00, 632.14it/s]\n"
     ]
    },
    {
     "name": "stdout",
     "output_type": "stream",
     "text": [
      "Length of IDX Values:  937470\n",
      "Filename r_0.png has been modified....\n",
      "C:\\Users\\hp\\AI\\Stanford\\ARMLab\\NeRF_By_Touch\\Blender\\ARMLab Code - Tejas\\NeRF Data\\Cube with ridges\\depth_0.45_remapped\\depth_0.45_remapped\\r_1.png\n"
     ]
    },
    {
     "name": "stderr",
     "output_type": "stream",
     "text": [
      "100%|█████████████████████████████████████████████████████████████████████████████| 1024/1024 [00:01<00:00, 601.27it/s]\n"
     ]
    },
    {
     "name": "stdout",
     "output_type": "stream",
     "text": [
      "Length of IDX Values:  938631\n",
      "Filename r_1.png has been modified....\n",
      "C:\\Users\\hp\\AI\\Stanford\\ARMLab\\NeRF_By_Touch\\Blender\\ARMLab Code - Tejas\\NeRF Data\\Cube with ridges\\depth_0.45_remapped\\depth_0.45_remapped\\r_2.png\n"
     ]
    },
    {
     "name": "stderr",
     "output_type": "stream",
     "text": [
      "100%|█████████████████████████████████████████████████████████████████████████████| 1024/1024 [00:01<00:00, 582.41it/s]\n"
     ]
    },
    {
     "name": "stdout",
     "output_type": "stream",
     "text": [
      "Length of IDX Values:  937871\n",
      "Filename r_2.png has been modified....\n",
      "C:\\Users\\hp\\AI\\Stanford\\ARMLab\\NeRF_By_Touch\\Blender\\ARMLab Code - Tejas\\NeRF Data\\Cube with ridges\\depth_0.45_remapped\\depth_0.45_remapped\\r_3.png\n"
     ]
    },
    {
     "name": "stderr",
     "output_type": "stream",
     "text": [
      "100%|█████████████████████████████████████████████████████████████████████████████| 1024/1024 [00:01<00:00, 621.57it/s]\n"
     ]
    },
    {
     "name": "stdout",
     "output_type": "stream",
     "text": [
      "Length of IDX Values:  937999\n",
      "Filename r_3.png has been modified....\n",
      "C:\\Users\\hp\\AI\\Stanford\\ARMLab\\NeRF_By_Touch\\Blender\\ARMLab Code - Tejas\\NeRF Data\\Cube with ridges\\depth_0.45_remapped\\depth_0.45_remapped\\r_4.png\n"
     ]
    },
    {
     "name": "stderr",
     "output_type": "stream",
     "text": [
      "100%|█████████████████████████████████████████████████████████████████████████████| 1024/1024 [00:01<00:00, 650.22it/s]\n"
     ]
    },
    {
     "name": "stdout",
     "output_type": "stream",
     "text": [
      "Length of IDX Values:  938793\n",
      "Filename r_4.png has been modified....\n",
      "C:\\Users\\hp\\AI\\Stanford\\ARMLab\\NeRF_By_Touch\\Blender\\ARMLab Code - Tejas\\NeRF Data\\Cube with ridges\\depth_0.45_remapped\\depth_0.45_remapped\\r_5.png\n"
     ]
    },
    {
     "name": "stderr",
     "output_type": "stream",
     "text": [
      "100%|█████████████████████████████████████████████████████████████████████████████| 1024/1024 [00:01<00:00, 656.50it/s]\n"
     ]
    },
    {
     "name": "stdout",
     "output_type": "stream",
     "text": [
      "Length of IDX Values:  937895\n",
      "Filename r_5.png has been modified....\n",
      "C:\\Users\\hp\\AI\\Stanford\\ARMLab\\NeRF_By_Touch\\Blender\\ARMLab Code - Tejas\\NeRF Data\\Cube with ridges\\depth_0.45_remapped\\depth_0.45_remapped\\r_6.png\n"
     ]
    },
    {
     "name": "stderr",
     "output_type": "stream",
     "text": [
      "100%|█████████████████████████████████████████████████████████████████████████████| 1024/1024 [00:01<00:00, 656.31it/s]\n"
     ]
    },
    {
     "name": "stdout",
     "output_type": "stream",
     "text": [
      "Length of IDX Values:  938285\n",
      "Filename r_6.png has been modified....\n",
      "C:\\Users\\hp\\AI\\Stanford\\ARMLab\\NeRF_By_Touch\\Blender\\ARMLab Code - Tejas\\NeRF Data\\Cube with ridges\\depth_0.45_remapped\\depth_0.45_remapped\\r_7.png\n"
     ]
    },
    {
     "name": "stderr",
     "output_type": "stream",
     "text": [
      "100%|█████████████████████████████████████████████████████████████████████████████| 1024/1024 [00:01<00:00, 657.32it/s]\n"
     ]
    },
    {
     "name": "stdout",
     "output_type": "stream",
     "text": [
      "Length of IDX Values:  938489\n",
      "Filename r_7.png has been modified....\n",
      "C:\\Users\\hp\\AI\\Stanford\\ARMLab\\NeRF_By_Touch\\Blender\\ARMLab Code - Tejas\\NeRF Data\\Cube with ridges\\depth_0.45_remapped\\depth_0.45_remapped\\r_8.png\n"
     ]
    },
    {
     "name": "stderr",
     "output_type": "stream",
     "text": [
      "100%|█████████████████████████████████████████████████████████████████████████████| 1024/1024 [00:01<00:00, 654.69it/s]\n"
     ]
    },
    {
     "name": "stdout",
     "output_type": "stream",
     "text": [
      "Length of IDX Values:  938544\n",
      "Filename r_8.png has been modified....\n",
      "C:\\Users\\hp\\AI\\Stanford\\ARMLab\\NeRF_By_Touch\\Blender\\ARMLab Code - Tejas\\NeRF Data\\Cube with ridges\\depth_0.45_remapped\\depth_0.45_remapped\\r_9.png\n"
     ]
    },
    {
     "name": "stderr",
     "output_type": "stream",
     "text": [
      "100%|█████████████████████████████████████████████████████████████████████████████| 1024/1024 [00:01<00:00, 686.26it/s]\n"
     ]
    },
    {
     "name": "stdout",
     "output_type": "stream",
     "text": [
      "Length of IDX Values:  937463\n",
      "Filename r_9.png has been modified....\n",
      "C:\\Users\\hp\\AI\\Stanford\\ARMLab\\NeRF_By_Touch\\Blender\\ARMLab Code - Tejas\\NeRF Data\\Cube with ridges\\depth_0.45_remapped\\depth_0.45_remapped\\target_045_remapped_images\n"
     ]
    },
    {
     "ename": "AttributeError",
     "evalue": "'NoneType' object has no attribute 'shape'",
     "output_type": "error",
     "traceback": [
      "\u001b[1;31m---------------------------------------------------------------------------\u001b[0m",
      "\u001b[1;31mAttributeError\u001b[0m                            Traceback (most recent call last)",
      "Input \u001b[1;32mIn [21]\u001b[0m, in \u001b[0;36m<cell line: 22>\u001b[1;34m()\u001b[0m\n\u001b[0;32m     24\u001b[0m \u001b[38;5;28mprint\u001b[39m(img_path)\n\u001b[0;32m     26\u001b[0m \u001b[38;5;66;03m# to mask the images and apply a white background\u001b[39;00m\n\u001b[1;32m---> 27\u001b[0m \u001b[43mmask_python_images\u001b[49m\u001b[43m(\u001b[49m\u001b[43mimg_path\u001b[49m\u001b[43m,\u001b[49m\u001b[43m \u001b[49m\u001b[43mtarget_filepath\u001b[49m\u001b[43m,\u001b[49m\u001b[43m \u001b[49m\u001b[43mimg_name\u001b[49m\u001b[43m,\u001b[49m\u001b[43m \u001b[49m\u001b[43mimg_type\u001b[49m\u001b[43m)\u001b[49m\n",
      "Input \u001b[1;32mIn [20]\u001b[0m, in \u001b[0;36mmask_python_images\u001b[1;34m(img_path, target_filepath, img_name, img_type)\u001b[0m\n\u001b[0;32m     17\u001b[0m idx_values \u001b[38;5;241m=\u001b[39m []\n\u001b[0;32m     18\u001b[0m corresponding_pixel_values \u001b[38;5;241m=\u001b[39m []\n\u001b[1;32m---> 19\u001b[0m img_shape \u001b[38;5;241m=\u001b[39m \u001b[43mdepth_img\u001b[49m\u001b[38;5;241;43m.\u001b[39;49m\u001b[43mshape\u001b[49m\n\u001b[0;32m     20\u001b[0m width \u001b[38;5;241m=\u001b[39m img_shape[\u001b[38;5;241m0\u001b[39m]\n\u001b[0;32m     21\u001b[0m height \u001b[38;5;241m=\u001b[39m img_shape[\u001b[38;5;241m1\u001b[39m]\n",
      "\u001b[1;31mAttributeError\u001b[0m: 'NoneType' object has no attribute 'shape'"
     ]
    }
   ],
   "source": [
    "import cv2\n",
    "import numpy as np\n",
    "import pandas as pd\n",
    "import matplotlib.pyplot as plt\n",
    "from PIL import Image\n",
    "from tqdm import tqdm\n",
    "import os\n",
    "import glob\n",
    "from os import path\n",
    "import sys\n",
    "\n",
    "\n",
    "img_type = \".png\"\n",
    "\n",
    "depth_img_path = r\"C:\\Users\\hp\\AI\\Stanford\\ARMLab\\NeRF_By_Touch\\Blender\\ARMLab Code - Tejas\\NeRF Data\\Cube with ridges\\depth_0.45_remapped\\depth_0.45_remapped\"\n",
    "\n",
    "target_filepath = r\"C:\\Users\\hp\\AI\\Stanford\\ARMLab\\NeRF_By_Touch\\Blender\\ARMLab Code - Tejas\\NeRF Data\\Cube with ridges\\depth_0.45_remapped\\depth_0.45_remapped\\target_045_remapped_images\"\n",
    "\n",
    "# to get the filenames\n",
    "filenames = os.listdir(depth_img_path)\n",
    "\n",
    "for img_name in filenames:\n",
    "    img_path = os.path.join(depth_img_path, img_name)\n",
    "    print(img_path)\n",
    "    \n",
    "    # to mask the images and apply a white background\n",
    "    mask_python_images(img_path, target_filepath, img_name, img_type)\n",
    "    #break;"
   ]
  },
  {
   "cell_type": "code",
   "execution_count": null,
   "id": "925c5948",
   "metadata": {},
   "outputs": [],
   "source": []
  },
  {
   "cell_type": "code",
   "execution_count": null,
   "id": "69a9cea3",
   "metadata": {},
   "outputs": [],
   "source": []
  },
  {
   "cell_type": "code",
   "execution_count": null,
   "id": "68e1a45b",
   "metadata": {},
   "outputs": [],
   "source": []
  },
  {
   "cell_type": "code",
   "execution_count": null,
   "id": "9cb38f7d",
   "metadata": {},
   "outputs": [],
   "source": []
  },
  {
   "cell_type": "code",
   "execution_count": null,
   "id": "8ea6bdef",
   "metadata": {},
   "outputs": [],
   "source": []
  },
  {
   "cell_type": "code",
   "execution_count": null,
   "id": "6cc80e30",
   "metadata": {},
   "outputs": [],
   "source": []
  },
  {
   "cell_type": "code",
   "execution_count": null,
   "id": "fc3f6829",
   "metadata": {},
   "outputs": [],
   "source": []
  },
  {
   "cell_type": "code",
   "execution_count": 4,
   "id": "c22698f6",
   "metadata": {},
   "outputs": [
    {
     "name": "stderr",
     "output_type": "stream",
     "text": [
      "100%|█████████████████████████████████████████████████████████████████████████████| 1024/1024 [00:01<00:00, 588.70it/s]\n"
     ]
    },
    {
     "name": "stdout",
     "output_type": "stream",
     "text": [
      "Filename C:\\Users\\hp\\AI\\Stanford\\ARMLab\\NeRF_By_Touch\\Blender\\ARMLab Code - Tejas\\NeRF Data\\Cube with ridges\\data\\depth\\train\\r_9.png has been modified....\n"
     ]
    },
    {
     "name": "stderr",
     "output_type": "stream",
     "text": [
      "100%|█████████████████████████████████████████████████████████████████████████████| 1024/1024 [00:01<00:00, 630.11it/s]\n"
     ]
    },
    {
     "name": "stdout",
     "output_type": "stream",
     "text": [
      "Filename C:\\Users\\hp\\AI\\Stanford\\ARMLab\\NeRF_By_Touch\\Blender\\ARMLab Code - Tejas\\NeRF Data\\Cube with ridges\\data\\depth\\train\\r_9.png has been modified....\n"
     ]
    },
    {
     "name": "stderr",
     "output_type": "stream",
     "text": [
      "100%|█████████████████████████████████████████████████████████████████████████████| 1024/1024 [00:01<00:00, 541.53it/s]\n"
     ]
    },
    {
     "name": "stdout",
     "output_type": "stream",
     "text": [
      "Filename C:\\Users\\hp\\AI\\Stanford\\ARMLab\\NeRF_By_Touch\\Blender\\ARMLab Code - Tejas\\NeRF Data\\Cube with ridges\\data\\depth\\train\\r_9.png has been modified....\n"
     ]
    },
    {
     "name": "stderr",
     "output_type": "stream",
     "text": [
      "100%|█████████████████████████████████████████████████████████████████████████████| 1024/1024 [00:01<00:00, 580.18it/s]\n"
     ]
    },
    {
     "name": "stdout",
     "output_type": "stream",
     "text": [
      "Filename C:\\Users\\hp\\AI\\Stanford\\ARMLab\\NeRF_By_Touch\\Blender\\ARMLab Code - Tejas\\NeRF Data\\Cube with ridges\\data\\depth\\train\\r_9.png has been modified....\n"
     ]
    },
    {
     "name": "stderr",
     "output_type": "stream",
     "text": [
      "100%|█████████████████████████████████████████████████████████████████████████████| 1024/1024 [00:01<00:00, 595.01it/s]\n"
     ]
    },
    {
     "name": "stdout",
     "output_type": "stream",
     "text": [
      "Filename C:\\Users\\hp\\AI\\Stanford\\ARMLab\\NeRF_By_Touch\\Blender\\ARMLab Code - Tejas\\NeRF Data\\Cube with ridges\\data\\depth\\train\\r_9.png has been modified....\n"
     ]
    },
    {
     "name": "stderr",
     "output_type": "stream",
     "text": [
      "100%|█████████████████████████████████████████████████████████████████████████████| 1024/1024 [00:01<00:00, 573.68it/s]\n"
     ]
    },
    {
     "name": "stdout",
     "output_type": "stream",
     "text": [
      "Filename C:\\Users\\hp\\AI\\Stanford\\ARMLab\\NeRF_By_Touch\\Blender\\ARMLab Code - Tejas\\NeRF Data\\Cube with ridges\\data\\depth\\train\\r_9.png has been modified....\n"
     ]
    },
    {
     "name": "stderr",
     "output_type": "stream",
     "text": [
      "100%|█████████████████████████████████████████████████████████████████████████████| 1024/1024 [00:01<00:00, 603.30it/s]\n"
     ]
    },
    {
     "name": "stdout",
     "output_type": "stream",
     "text": [
      "Filename C:\\Users\\hp\\AI\\Stanford\\ARMLab\\NeRF_By_Touch\\Blender\\ARMLab Code - Tejas\\NeRF Data\\Cube with ridges\\data\\depth\\train\\r_9.png has been modified....\n"
     ]
    },
    {
     "name": "stderr",
     "output_type": "stream",
     "text": [
      "100%|█████████████████████████████████████████████████████████████████████████████| 1024/1024 [00:01<00:00, 524.18it/s]\n"
     ]
    },
    {
     "name": "stdout",
     "output_type": "stream",
     "text": [
      "Filename C:\\Users\\hp\\AI\\Stanford\\ARMLab\\NeRF_By_Touch\\Blender\\ARMLab Code - Tejas\\NeRF Data\\Cube with ridges\\data\\depth\\train\\r_9.png has been modified....\n"
     ]
    },
    {
     "name": "stderr",
     "output_type": "stream",
     "text": [
      "100%|█████████████████████████████████████████████████████████████████████████████| 1024/1024 [00:02<00:00, 510.57it/s]\n"
     ]
    },
    {
     "name": "stdout",
     "output_type": "stream",
     "text": [
      "Filename C:\\Users\\hp\\AI\\Stanford\\ARMLab\\NeRF_By_Touch\\Blender\\ARMLab Code - Tejas\\NeRF Data\\Cube with ridges\\data\\depth\\train\\r_9.png has been modified....\n"
     ]
    },
    {
     "name": "stderr",
     "output_type": "stream",
     "text": [
      "100%|█████████████████████████████████████████████████████████████████████████████| 1024/1024 [00:01<00:00, 594.02it/s]\n"
     ]
    },
    {
     "name": "stdout",
     "output_type": "stream",
     "text": [
      "Filename C:\\Users\\hp\\AI\\Stanford\\ARMLab\\NeRF_By_Touch\\Blender\\ARMLab Code - Tejas\\NeRF Data\\Cube with ridges\\data\\depth\\train\\r_9.png has been modified....\n"
     ]
    }
   ],
   "source": [
    "import cv2\n",
    "import numpy as np\n",
    "import pandas as pd\n",
    "import matplotlib.pyplot as plt\n",
    "from PIL import Image\n",
    "from tqdm import tqdm\n",
    "import os\n",
    "import glob\n",
    "from os import path\n",
    "import sys\n",
    "\n",
    "\n",
    "\n",
    "\n",
    "# color image file path\n",
    "#color_img_path = r\"C:\\Users\\hp\\AI\\Stanford\\ARMLab\\NeRF_By_Touch\\Blender\\ARMLab Code - Tejas\\NeRF Data\\Cube with ridges\\data\\color\"\n",
    "\n",
    "# depth image filepath\n",
    "depth_img_path = r\"C:\\Users\\hp\\AI\\Stanford\\ARMLab\\NeRF_By_Touch\\Blender\\ARMLab Code - Tejas\\NeRF Data\\Cube with ridges\\data\\depth\"\n",
    "\n",
    "# to save the transformed trainig depth images\n",
    "target_filepath = r\"C:\\Users\\hp\\AI\\Stanford\\ARMLab\\NeRF_By_Touch\\Blender\\ARMLab Code - Tejas\\NeRF Data\\Cube with ridges\\data\\transformed_images\"\n",
    "\n",
    "\n",
    "\n",
    "# to save the transformed testing depth images\n",
    "#target_filepath_test = r\"C:\\Users\\hp\\AI\\Stanford\\ARMLab\\NeRF_By_Touch\\Blender\\ARMLab Code - Tejas\\NeRF Data\\Cube with ridges\\data\\transformed_images\"\n",
    "# to store the corresponding image filepaths\n",
    "# color_train_img_filepath = []\n",
    "# color_test_img_filepath = []\n",
    "\n",
    "\n",
    "\n",
    "if not os.path.exists(target_filepath):\n",
    "    os.makedirs(target_filepath)\n",
    "\n",
    "depth_train_img_filepath = []\n",
    "depth_test_img_filepath = []\n",
    "\n",
    "filenames = []\n",
    "\n",
    "image_type = [\"train\", \"test\"]\n",
    "\n",
    "\n",
    "# to specify what type of data you want to process\n",
    "img_type = \"train\"\n",
    "\n",
    "\n",
    "# to extract the filepaths and filenames for the color and depth images\n",
    "if img_type == \"train\":\n",
    "    # the filenames for all the images is the same\n",
    "    path = os.path.join(depth_img_path, \"train\")\n",
    "    filenames = os.listdir(path)\n",
    "    \n",
    "    for filename in glob.glob(os.path.join(depth_img_path, \"train\", \"*.png\")):\n",
    "        depth_train_img_filepath.append(filename)\n",
    "\n",
    "if img_type == \"test\":\n",
    "#     for filename in glob.glob(os.path.join(depth_img_path, \"test\", \"*.png\")):\n",
    "#         color_test_img_filepath.append(filename)\n",
    "    \n",
    "    for filename in glob.glob(os.path.join(depth_img_path, \"test\", \"*.png\")):\n",
    "        depth_test_img_filepath.append(filename)\n",
    "\n",
    "\n",
    "# # to run the script depending upon what type of image I want\n",
    "if img_type == \"train\":\n",
    "    if not os.path.exists(os.path.join(target_filepath, \"train\")):\n",
    "        os.makedirs(os.path.join(target_filepath, \"train\"))\n",
    "    mask_python_images(depth_train_img_filepath, target_filepath, img_type, filenames)\n",
    "    \n",
    "\n",
    "if img_type == \"test\":\n",
    "    if not os.path.exists(os.path.join(target_filepath, \"test\")):\n",
    "        os.makedirs(os.path.join(target_filepath, \"test\")) \n",
    "    mask_python_images(depth_train_img_filepath, target_filepath, img_type, filenames)"
   ]
  },
  {
   "cell_type": "code",
   "execution_count": null,
   "id": "4a670fb1",
   "metadata": {},
   "outputs": [],
   "source": []
  },
  {
   "cell_type": "code",
   "execution_count": null,
   "id": "b74f01f2",
   "metadata": {},
   "outputs": [],
   "source": []
  },
  {
   "cell_type": "code",
   "execution_count": null,
   "id": "a4bfa663",
   "metadata": {},
   "outputs": [],
   "source": []
  },
  {
   "cell_type": "code",
   "execution_count": null,
   "id": "fa90881d",
   "metadata": {},
   "outputs": [],
   "source": []
  },
  {
   "cell_type": "code",
   "execution_count": null,
   "id": "bc17567f",
   "metadata": {},
   "outputs": [],
   "source": []
  },
  {
   "cell_type": "code",
   "execution_count": null,
   "id": "6b287c8f",
   "metadata": {},
   "outputs": [],
   "source": []
  },
  {
   "cell_type": "code",
   "execution_count": null,
   "id": "246d418c",
   "metadata": {},
   "outputs": [],
   "source": []
  },
  {
   "cell_type": "code",
   "execution_count": null,
   "id": "1894bb6d",
   "metadata": {},
   "outputs": [],
   "source": []
  },
  {
   "cell_type": "code",
   "execution_count": null,
   "id": "1820ad2d",
   "metadata": {},
   "outputs": [],
   "source": []
  },
  {
   "cell_type": "code",
   "execution_count": 30,
   "id": "a0268584",
   "metadata": {},
   "outputs": [
    {
     "name": "stdout",
     "output_type": "stream",
     "text": [
      "C:\\Users\\hp\\AI\\Stanford\\ARMLab\\NeRF_By_Touch\\Blender\\ARMLab Code - Tejas\\NeRF Data\\Cube with ridges\\data\\depth\\train\\r_0.png\n"
     ]
    }
   ],
   "source": [
    "path = r\"C:\\Users\\hp\\AI\\Stanford\\ARMLab\\NeRF_By_Touch\\Blender\\ARMLab Code - Tejas\\NeRF Data\\Cube with ridges\\data\\depth\\train\"\n",
    "\n",
    "filenames = os.listdir(path)\n",
    "\n",
    "image_1_path = os.path.join(path, filenames[0])\n",
    "\n",
    "print(image_1_path)\n",
    "\n",
    "depth_img_1 = cv2.imread(image_1_path, -1)"
   ]
  },
  {
   "cell_type": "code",
   "execution_count": 32,
   "id": "8db4cf74",
   "metadata": {},
   "outputs": [
    {
     "name": "stdout",
     "output_type": "stream",
     "text": [
      "(1024, 1024) <class 'numpy.ndarray'>\n"
     ]
    }
   ],
   "source": [
    "print(depth_img_1.shape, type(depth_img_1))"
   ]
  },
  {
   "cell_type": "code",
   "execution_count": 33,
   "id": "0104a48f",
   "metadata": {},
   "outputs": [
    {
     "data": {
      "text/plain": [
       "150"
      ]
     },
     "execution_count": 33,
     "metadata": {},
     "output_type": "execute_result"
    }
   ],
   "source": [
    "depth_img_1[0][0]"
   ]
  },
  {
   "cell_type": "code",
   "execution_count": 35,
   "id": "bc5fcbf9",
   "metadata": {},
   "outputs": [
    {
     "data": {
      "text/plain": [
       "99"
      ]
     },
     "execution_count": 35,
     "metadata": {},
     "output_type": "execute_result"
    }
   ],
   "source": [
    "depth_img_1[512][512]"
   ]
  },
  {
   "cell_type": "code",
   "execution_count": 39,
   "id": "a35ffeb3",
   "metadata": {},
   "outputs": [
    {
     "name": "stderr",
     "output_type": "stream",
     "text": [
      "100%|█████████████████████████████████████████████████████████████████████████████| 1024/1024 [00:01<00:00, 517.97it/s]\n"
     ]
    }
   ],
   "source": [
    "'''\n",
    "to find out the white pixel indices in the color image\n",
    "'''\n",
    "idx_values = []\n",
    "corresponding_pixel_values = []\n",
    "img_shape = depth_img_1.shape\n",
    "width = img_shape[0]\n",
    "height = img_shape[1]\n",
    "\n",
    "for w_idx in tqdm(range(width)):  #to iterate through the rows of the image\n",
    "    for h_idx in range(height):  # to iterate through the coluns of the image\n",
    "        pixel_values = depth_img_1[w_idx, h_idx]\n",
    "        #print(\"Pixel values: \", pixel_values)\n",
    "        if (pixel_values == 150): \n",
    "            #print(\"Inside the if statement\")\n",
    "            idx_values.append([w_idx, h_idx])\n",
    "            corresponding_pixel_values.append(pixel_values)\n",
    "        else:\n",
    "            continue;\n",
    "        #break;"
   ]
  },
  {
   "cell_type": "code",
   "execution_count": 43,
   "id": "f96e7d00",
   "metadata": {},
   "outputs": [
    {
     "data": {
      "text/plain": [
       "True"
      ]
     },
     "execution_count": 43,
     "metadata": {},
     "output_type": "execute_result"
    }
   ],
   "source": [
    "for i in idx_values:\n",
    "    x = i[0]\n",
    "    y = i[1]\n",
    "    depth_img_1[x, y] = 255  # to transform the background of the image as needed\n",
    "\n",
    "    \n",
    "target_file_path = r\"C:\\Users\\hp\\AI\\Stanford\\ARMLab\\NeRF_By_Touch\\Blender\\ARMLab Code - Tejas\\NeRF Data\\Cube with ridges\\data\\depth\\transformed\\r_0.png\"\n",
    "cv2.imwrite(target_file_path, depth_img_1)"
   ]
  },
  {
   "cell_type": "code",
   "execution_count": null,
   "id": "71dd8c98",
   "metadata": {},
   "outputs": [],
   "source": []
  },
  {
   "cell_type": "code",
   "execution_count": null,
   "id": "dcdb8b5a",
   "metadata": {},
   "outputs": [],
   "source": []
  },
  {
   "cell_type": "code",
   "execution_count": null,
   "id": "52c4af3f",
   "metadata": {},
   "outputs": [],
   "source": []
  }
 ],
 "metadata": {
  "kernelspec": {
   "display_name": "Python 3 (ipykernel)",
   "language": "python",
   "name": "python3"
  },
  "language_info": {
   "codemirror_mode": {
    "name": "ipython",
    "version": 3
   },
   "file_extension": ".py",
   "mimetype": "text/x-python",
   "name": "python",
   "nbconvert_exporter": "python",
   "pygments_lexer": "ipython3",
   "version": "3.9.12"
  }
 },
 "nbformat": 4,
 "nbformat_minor": 5
}
